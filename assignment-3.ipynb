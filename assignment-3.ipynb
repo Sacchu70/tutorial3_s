{
 "cells": [
  {
   "cell_type": "markdown",
   "id": "9195943a-6bc2-4691-a6e1-cf1bc3b8f7fc",
   "metadata": {},
   "source": [
    "Q1. Which keyword is used to create a function? Create a function to return a list of odd numbers in the range of 1 to 25.\n"
   ]
  },
  {
   "cell_type": "markdown",
   "id": "81eb4eff-1dca-47cc-af8c-755fbfd4c411",
   "metadata": {},
   "source": [
    "Keyword is used to create a function is \"def\"."
   ]
  },
  {
   "cell_type": "code",
   "execution_count": 20,
   "id": "c369aa83-7426-472d-8a2a-0df09bf46fb7",
   "metadata": {},
   "outputs": [],
   "source": [
    "def odd_number(n):\n",
    "    l1 = []\n",
    "    a = range(n)[1::2]\n",
    "    for i in a:\n",
    "        l1.append(i)\n",
    "    return  l1    \n",
    "        "
   ]
  },
  {
   "cell_type": "code",
   "execution_count": 21,
   "id": "859baeba-ca0f-4988-8e49-b09af9a19511",
   "metadata": {},
   "outputs": [
    {
     "data": {
      "text/plain": [
       "[1, 3, 5, 7, 9, 11, 13, 15, 17, 19, 21, 23, 25]"
      ]
     },
     "execution_count": 21,
     "metadata": {},
     "output_type": "execute_result"
    }
   ],
   "source": [
    "odd_number(26)"
   ]
  },
  {
   "cell_type": "markdown",
   "id": "44ce9c1c-c412-40ff-ac71-f4df88973fe0",
   "metadata": {},
   "source": [
    "Q2. Why *args and **kwargs is used in some functions? Create a function each for *args and **kwargs to demonstrate their use.\n"
   ]
  },
  {
   "cell_type": "markdown",
   "id": "f93d8ecc-f3f2-42cc-ac5f-78da40f6f1ad",
   "metadata": {},
   "source": [
    "*args is used to defined infinity argument in function.\n",
    "**Kwargs is used to defined key and value in dictonary in function."
   ]
  },
  {
   "cell_type": "code",
   "execution_count": 26,
   "id": "9fa15d64-1d16-4d11-ba3d-2a9e5d341fee",
   "metadata": {},
   "outputs": [],
   "source": [
    "def type(*args):\n",
    "    return args"
   ]
  },
  {
   "cell_type": "code",
   "execution_count": 27,
   "id": "13864d44-f6a7-42a2-97f9-883d87ccd6a5",
   "metadata": {},
   "outputs": [
    {
     "data": {
      "text/plain": [
       "(1, 2, 3, 4, 5, 6, 'sachin', 'hero')"
      ]
     },
     "execution_count": 27,
     "metadata": {},
     "output_type": "execute_result"
    }
   ],
   "source": [
    "type(1,2,3,4,5,6,\"sachin\",\"hero\")"
   ]
  },
  {
   "cell_type": "code",
   "execution_count": 28,
   "id": "87411ca7-a7ca-4707-a30e-1ed28f34e254",
   "metadata": {},
   "outputs": [],
   "source": [
    "def type(**kwargs):\n",
    "    return kwargs"
   ]
  },
  {
   "cell_type": "code",
   "execution_count": 33,
   "id": "4bbf20c5-3cd0-4833-b724-16d847a5ff84",
   "metadata": {},
   "outputs": [
    {
     "data": {
      "text/plain": [
       "{'name': 'sachin', 'style': 'hero'}"
      ]
     },
     "execution_count": 33,
     "metadata": {},
     "output_type": "execute_result"
    }
   ],
   "source": [
    "type(name = \"sachin\", style = \"hero\")"
   ]
  },
  {
   "cell_type": "markdown",
   "id": "1a586f68-231d-440e-8d9c-4f8cce15ab80",
   "metadata": {},
   "source": [
    "Q3. What is an iterator in python? Name the method used to initialise the iterator object and the method\n",
    "used for iteration. Use these methods to print the first five elements of the given list [2, 4, 6, 8, 10, 12, 14,\n",
    "16, 18, 20]."
   ]
  },
  {
   "cell_type": "markdown",
   "id": "4ad58b52-9bb0-40fc-9e17-0f2286741048",
   "metadata": {},
   "source": [
    "iterator is break down into  part and show.\n",
    "_next_ used to initialise iterator object.\n",
    "_iter_ method used for iteration."
   ]
  },
  {
   "cell_type": "code",
   "execution_count": 46,
   "id": "f6c9e4ab-3c34-4a48-8edd-8167a57338d7",
   "metadata": {},
   "outputs": [
    {
     "name": "stdout",
     "output_type": "stream",
     "text": [
      "2\n",
      "4\n",
      "6\n",
      "8\n",
      "10\n"
     ]
    }
   ],
   "source": [
    "l = [2,4,6,8,10,12,14,16,18,20]\n",
    "a = iter(l)\n",
    "print(next(a))\n",
    "print(next(a))\n",
    "print(next(a))\n",
    "print(next(a))\n",
    "print(next(a))\n",
    "    \n",
    "\n"
   ]
  },
  {
   "cell_type": "markdown",
   "id": "4207dfcf-e2d8-456a-bab4-43f7b41dc5d6",
   "metadata": {},
   "source": [
    "Q4 . What is a generator function in python? Why yield keyword is used? Give an example of a generator\n",
    "function."
   ]
  },
  {
   "cell_type": "markdown",
   "id": "fea4c872-f074-413d-ad48-27163bb1785c",
   "metadata": {},
   "source": [
    "Generator is a function which give iterate object . That fuction not stored data in RAM it run when fuction call and given data one by one.\n",
    "yield keyword used because to make generator function."
   ]
  },
  {
   "cell_type": "code",
   "execution_count": 22,
   "id": "d722d360-2bb5-423b-9c45-7facf329be0b",
   "metadata": {},
   "outputs": [],
   "source": [
    "def test3(n):\n",
    "    for i in range(n):\n",
    "        yield i"
   ]
  },
  {
   "cell_type": "code",
   "execution_count": 24,
   "id": "88c2c556-1e00-46eb-aa10-98cf31a820ac",
   "metadata": {},
   "outputs": [
    {
     "data": {
      "text/plain": [
       "<generator object test3 at 0x7f5f742d11c0>"
      ]
     },
     "execution_count": 24,
     "metadata": {},
     "output_type": "execute_result"
    }
   ],
   "source": [
    "test3(10)"
   ]
  },
  {
   "cell_type": "code",
   "execution_count": 26,
   "id": "0052f878-040a-4433-867f-4bb360c57a81",
   "metadata": {},
   "outputs": [
    {
     "name": "stdout",
     "output_type": "stream",
     "text": [
      "0\n",
      "1\n",
      "2\n",
      "3\n",
      "4\n",
      "5\n",
      "6\n",
      "7\n",
      "8\n",
      "9\n"
     ]
    }
   ],
   "source": [
    "for i  in test3(10):\n",
    "    print(i)"
   ]
  },
  {
   "cell_type": "markdown",
   "id": "115d5f3a-8d44-478c-b560-900573ee87e0",
   "metadata": {},
   "source": [
    "Q5. Create a generator function for prime numbers less than 1000. Use the next() method to print the\n",
    "first 20 prime numbers."
   ]
  },
  {
   "cell_type": "code",
   "execution_count": 61,
   "id": "cb017254-9e6f-4719-8a88-52fbddac3f92",
   "metadata": {},
   "outputs": [],
   "source": [
    "def type1():\n",
    "    for i in range(1000):\n",
    "        if i:\n",
    "            yield i"
   ]
  },
  {
   "cell_type": "code",
   "execution_count": 56,
   "id": "05e71474-c149-42ef-ac91-7a142eff2c56",
   "metadata": {},
   "outputs": [
    {
     "data": {
      "text/plain": [
       "<generator object type1 at 0x7f3e142c2650>"
      ]
     },
     "execution_count": 56,
     "metadata": {},
     "output_type": "execute_result"
    }
   ],
   "source": [
    "type1()"
   ]
  },
  {
   "cell_type": "code",
   "execution_count": 63,
   "id": "47506d9a-62c0-42d7-adc7-a81c6c19aa85",
   "metadata": {},
   "outputs": [
    {
     "ename": "TypeError",
     "evalue": "unsupported operand type(s) for %: 'int' and 'range'",
     "output_type": "error",
     "traceback": [
      "\u001b[0;31m---------------------------------------------------------------------------\u001b[0m",
      "\u001b[0;31mTypeError\u001b[0m                                 Traceback (most recent call last)",
      "Cell \u001b[0;32mIn[63], line 1\u001b[0m\n\u001b[0;32m----> 1\u001b[0m \u001b[38;5;28;01mfor\u001b[39;00m i \u001b[38;5;129;01min\u001b[39;00m type1():\n\u001b[1;32m      2\u001b[0m     \u001b[38;5;28mprint\u001b[39m(i)\n",
      "Cell \u001b[0;32mIn[61], line 3\u001b[0m, in \u001b[0;36mtype1\u001b[0;34m()\u001b[0m\n\u001b[1;32m      1\u001b[0m \u001b[38;5;28;01mdef\u001b[39;00m \u001b[38;5;21mtype1\u001b[39m():\n\u001b[1;32m      2\u001b[0m     \u001b[38;5;28;01mfor\u001b[39;00m i \u001b[38;5;129;01min\u001b[39;00m \u001b[38;5;28mrange\u001b[39m(\u001b[38;5;241m1000\u001b[39m):\n\u001b[0;32m----> 3\u001b[0m         \u001b[38;5;28;01mif\u001b[39;00m \u001b[43mi\u001b[49m\u001b[38;5;241;43m%\u001b[39;49m\u001b[38;5;28;43mrange\u001b[39;49m\u001b[43m(\u001b[49m\u001b[38;5;241;43m1000\u001b[39;49m\u001b[43m)\u001b[49m\u001b[38;5;241m!=\u001b[39m\u001b[38;5;241m0\u001b[39m:\n\u001b[1;32m      4\u001b[0m             \u001b[38;5;28;01myield\u001b[39;00m i\n",
      "\u001b[0;31mTypeError\u001b[0m: unsupported operand type(s) for %: 'int' and 'range'"
     ]
    }
   ],
   "source": [
    "for i in type1():\n",
    "    print(i)"
   ]
  },
  {
   "cell_type": "markdown",
   "id": "b3943fe4-e7d7-4f89-8a61-bddd271cded5",
   "metadata": {},
   "source": [
    "Q6. Write a python program to print the first 10 Fibonacci numbers using a while loop."
   ]
  },
  {
   "cell_type": "code",
   "execution_count": 9,
   "id": "c09be32d-3319-4371-a0b1-3f5efe044e51",
   "metadata": {},
   "outputs": [],
   "source": [
    "def sachin(n):\n",
    "    a = 0\n",
    "    b= 1\n",
    "    while True:\n",
    "        yield a\n",
    "        a,b = b,a+b\n",
    "\n",
    "   "
   ]
  },
  {
   "cell_type": "code",
   "execution_count": 10,
   "id": "9215e800-3f0c-4098-8689-f5d9833ebaca",
   "metadata": {},
   "outputs": [
    {
     "name": "stdout",
     "output_type": "stream",
     "text": [
      "0\n",
      "1\n",
      "1\n",
      "2\n",
      "3\n",
      "5\n",
      "8\n",
      "13\n",
      "21\n",
      "34\n"
     ]
    }
   ],
   "source": [
    "for i in sachin(10):\n",
    "    print(i)"
   ]
  },
  {
   "cell_type": "markdown",
   "id": "c824c4a4-9e12-49ba-8c78-c471a3d4c3e6",
   "metadata": {},
   "source": [
    "Q7. Write a List Comprehension to iterate through the given string: ‘pwskills’.\n",
    "Expected output: ['p', 'w', 's', 'k', 'i', 'l', 'l', 's']"
   ]
  },
  {
   "cell_type": "code",
   "execution_count": 8,
   "id": "dd36a873-91c8-4ba2-a1d7-0444480ab447",
   "metadata": {},
   "outputs": [
    {
     "data": {
      "text/plain": [
       "['p', 'w', 's', 'k', 'i', 'l', 'l', 's']"
      ]
     },
     "execution_count": 8,
     "metadata": {},
     "output_type": "execute_result"
    }
   ],
   "source": [
    "a = \"pwskills\"\n",
    "l = []\n",
    "for i in a:\n",
    "    l.append(i)\n",
    "l\n",
    "    \n",
    "    \n",
    "    "
   ]
  },
  {
   "cell_type": "code",
   "execution_count": null,
   "id": "755e8ce4-49c7-4a36-bcfe-60f21e8ab19f",
   "metadata": {},
   "outputs": [],
   "source": [
    "Q8. Write a python program to check whether a given number is Palindrome or not using a while loop."
   ]
  },
  {
   "cell_type": "code",
   "execution_count": 16,
   "id": "7951d3ef-708d-4704-96cf-19c83ebab43f",
   "metadata": {},
   "outputs": [
    {
     "name": "stdin",
     "output_type": "stream",
     "text": [
      " 123321\n"
     ]
    },
    {
     "name": "stdout",
     "output_type": "stream",
     "text": [
      "123321 is a palindrome number\n"
     ]
    }
   ],
   "source": [
    "a = str(input())\n",
    "if a[::-1]==a:\n",
    "     print(a,\"is a palindrome number\")\n",
    "else:\n",
    "     print(a,\"is not a palindrome number\")"
   ]
  },
  {
   "cell_type": "markdown",
   "id": "2e710927-db33-46f3-a484-a377931a8543",
   "metadata": {},
   "source": [
    "Q9. Write a code to print odd numbers from 1 to 100 using list comprehension."
   ]
  },
  {
   "cell_type": "code",
   "execution_count": 15,
   "id": "82c7fab4-9927-4678-9850-bce26fd5fd02",
   "metadata": {},
   "outputs": [
    {
     "data": {
      "text/plain": [
       "[1,\n",
       " 2,\n",
       " 3,\n",
       " 4,\n",
       " 5,\n",
       " 6,\n",
       " 7,\n",
       " 8,\n",
       " 9,\n",
       " 10,\n",
       " 11,\n",
       " 12,\n",
       " 13,\n",
       " 14,\n",
       " 15,\n",
       " 16,\n",
       " 17,\n",
       " 18,\n",
       " 19,\n",
       " 20,\n",
       " 21,\n",
       " 22,\n",
       " 23,\n",
       " 24,\n",
       " 25,\n",
       " 26,\n",
       " 27,\n",
       " 28,\n",
       " 29,\n",
       " 30,\n",
       " 31,\n",
       " 32,\n",
       " 33,\n",
       " 34,\n",
       " 35,\n",
       " 36,\n",
       " 37,\n",
       " 38,\n",
       " 39,\n",
       " 40,\n",
       " 41,\n",
       " 42,\n",
       " 43,\n",
       " 44,\n",
       " 45,\n",
       " 46,\n",
       " 47,\n",
       " 48,\n",
       " 49,\n",
       " 50,\n",
       " 51,\n",
       " 52,\n",
       " 53,\n",
       " 54,\n",
       " 55,\n",
       " 56,\n",
       " 57,\n",
       " 58,\n",
       " 59,\n",
       " 60,\n",
       " 61,\n",
       " 62,\n",
       " 63,\n",
       " 64,\n",
       " 65,\n",
       " 66,\n",
       " 67,\n",
       " 68,\n",
       " 69,\n",
       " 70,\n",
       " 71,\n",
       " 72,\n",
       " 73,\n",
       " 74,\n",
       " 75,\n",
       " 76,\n",
       " 77,\n",
       " 78,\n",
       " 79,\n",
       " 80,\n",
       " 81,\n",
       " 82,\n",
       " 83,\n",
       " 84,\n",
       " 85,\n",
       " 86,\n",
       " 87,\n",
       " 88,\n",
       " 89,\n",
       " 90,\n",
       " 91,\n",
       " 92,\n",
       " 93,\n",
       " 94,\n",
       " 95,\n",
       " 96,\n",
       " 97,\n",
       " 98,\n",
       " 99,\n",
       " 100]"
      ]
     },
     "execution_count": 15,
     "metadata": {},
     "output_type": "execute_result"
    }
   ],
   "source": [
    "l1 = []\n",
    "for i in range(1,101):\n",
    "    l1.append(i)\n",
    "l1    \n",
    "    "
   ]
  },
  {
   "cell_type": "code",
   "execution_count": 18,
   "id": "46109fc9-910e-4e6f-9011-cf2a385903d6",
   "metadata": {},
   "outputs": [
    {
     "data": {
      "text/plain": [
       "[1,\n",
       " 3,\n",
       " 5,\n",
       " 7,\n",
       " 9,\n",
       " 11,\n",
       " 13,\n",
       " 15,\n",
       " 17,\n",
       " 19,\n",
       " 21,\n",
       " 23,\n",
       " 25,\n",
       " 27,\n",
       " 29,\n",
       " 31,\n",
       " 33,\n",
       " 35,\n",
       " 37,\n",
       " 39,\n",
       " 41,\n",
       " 43,\n",
       " 45,\n",
       " 47,\n",
       " 49,\n",
       " 51,\n",
       " 53,\n",
       " 55,\n",
       " 57,\n",
       " 59,\n",
       " 61,\n",
       " 63,\n",
       " 65,\n",
       " 67,\n",
       " 69,\n",
       " 71,\n",
       " 73,\n",
       " 75,\n",
       " 77,\n",
       " 79,\n",
       " 81,\n",
       " 83,\n",
       " 85,\n",
       " 87,\n",
       " 89,\n",
       " 91,\n",
       " 93,\n",
       " 95,\n",
       " 97,\n",
       " 99]"
      ]
     },
     "execution_count": 18,
     "metadata": {},
     "output_type": "execute_result"
    }
   ],
   "source": [
    "l1[::2]"
   ]
  },
  {
   "cell_type": "code",
   "execution_count": null,
   "id": "a06ba75a-f7b1-4efe-8079-53c9fe34789d",
   "metadata": {},
   "outputs": [],
   "source": []
  }
 ],
 "metadata": {
  "kernelspec": {
   "display_name": "Python 3 (ipykernel)",
   "language": "python",
   "name": "python3"
  },
  "language_info": {
   "codemirror_mode": {
    "name": "ipython",
    "version": 3
   },
   "file_extension": ".py",
   "mimetype": "text/x-python",
   "name": "python",
   "nbconvert_exporter": "python",
   "pygments_lexer": "ipython3",
   "version": "3.10.8"
  }
 },
 "nbformat": 4,
 "nbformat_minor": 5
}
